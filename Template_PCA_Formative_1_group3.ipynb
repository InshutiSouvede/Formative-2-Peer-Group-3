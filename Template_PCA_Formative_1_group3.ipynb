{
  "cells": [
    {
      "cell_type": "markdown",
      "metadata": {
        "id": "JqkivgEHr_KW"
      },
      "source": [
        "# Formative Assignment: Advanced Linear Algebra (PCA)\n",
        "This notebook will guide you through the implementation of Principal Component Analysis (PCA). Fill in the missing code and provide the required answers in the appropriate sections. You will work with a dataset that is Africanized .\n",
        "\n",
        "Make sure to display outputs for each code cell when submitting."
      ]
    },
    {
      "cell_type": "markdown",
      "metadata": {
        "id": "xycIp758r_Kb"
      },
      "source": [
        "### Step 1: Load and Standardize the Data\n",
        "Before applying PCA, we must standardize the dataset. Standardization ensures that all features have a mean of 0 and a standard deviation of 1, which is essential for PCA.\n",
        "Fill in the code to standardize the dataset.\n",
        "\n",
        "STRICTLY - Write code that implements standardization based on the image below\n",
        "\n",
        "<img src='data:image/jpeg;base64,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'/>\n"
      ]
    },
    {
      "cell_type": "code",
      "execution_count": 2,
      "metadata": {
        "colab": {
          "base_uri": "https://localhost:8080/",
          "height": 226
        },
        "id": "BKihXBaBr_Kc",
        "outputId": "e0f9c374-2d62-40d9-eec9-4ab48fd82f37"
      },
      "outputs": [
        {
          "output_type": "execute_result",
          "data": {
            "text/plain": [
              "       case      year  systemic_crisis  exch_usd  domestic_debt_in_default  \\\n",
              "0 -1.461656 -2.917150         3.451758 -0.386713                 -0.203219   \n",
              "1 -1.461656 -2.887313        -0.289707 -0.386708                 -0.203219   \n",
              "2 -1.461656 -2.857475        -0.289707 -0.386712                 -0.203219   \n",
              "3 -1.461656 -2.827638        -0.289707 -0.386718                 -0.203219   \n",
              "4 -1.461656 -2.797800        -0.289707 -0.386721                 -0.203219   \n",
              "\n",
              "   sovereign_external_debt_default  gdp_weighted_default  \\\n",
              "0                        -0.424973             -0.147006   \n",
              "1                        -0.424973             -0.147006   \n",
              "2                        -0.424973             -0.147006   \n",
              "3                        -0.424973             -0.147006   \n",
              "4                        -0.424973             -0.147006   \n",
              "\n",
              "   inflation_annual_cpi  independence  currency_crises  inflation_crises  \n",
              "0             -0.030863     -1.862352        -0.378058         -0.385474  \n",
              "1             -0.030848     -1.862352        -0.378058         -0.385474  \n",
              "2             -0.030874     -1.862352        -0.378058         -0.385474  \n",
              "3             -0.030852     -1.862352        -0.378058         -0.385474  \n",
              "4             -0.030874     -1.862352        -0.378058         -0.385474  "
            ],
            "text/html": [
              "\n",
              "  <div id=\"df-cc2bb1de-6888-4526-b426-edb14b998c3b\" class=\"colab-df-container\">\n",
              "    <div>\n",
              "<style scoped>\n",
              "    .dataframe tbody tr th:only-of-type {\n",
              "        vertical-align: middle;\n",
              "    }\n",
              "\n",
              "    .dataframe tbody tr th {\n",
              "        vertical-align: top;\n",
              "    }\n",
              "\n",
              "    .dataframe thead th {\n",
              "        text-align: right;\n",
              "    }\n",
              "</style>\n",
              "<table border=\"1\" class=\"dataframe\">\n",
              "  <thead>\n",
              "    <tr style=\"text-align: right;\">\n",
              "      <th></th>\n",
              "      <th>case</th>\n",
              "      <th>year</th>\n",
              "      <th>systemic_crisis</th>\n",
              "      <th>exch_usd</th>\n",
              "      <th>domestic_debt_in_default</th>\n",
              "      <th>sovereign_external_debt_default</th>\n",
              "      <th>gdp_weighted_default</th>\n",
              "      <th>inflation_annual_cpi</th>\n",
              "      <th>independence</th>\n",
              "      <th>currency_crises</th>\n",
              "      <th>inflation_crises</th>\n",
              "    </tr>\n",
              "  </thead>\n",
              "  <tbody>\n",
              "    <tr>\n",
              "      <th>0</th>\n",
              "      <td>-1.461656</td>\n",
              "      <td>-2.917150</td>\n",
              "      <td>3.451758</td>\n",
              "      <td>-0.386713</td>\n",
              "      <td>-0.203219</td>\n",
              "      <td>-0.424973</td>\n",
              "      <td>-0.147006</td>\n",
              "      <td>-0.030863</td>\n",
              "      <td>-1.862352</td>\n",
              "      <td>-0.378058</td>\n",
              "      <td>-0.385474</td>\n",
              "    </tr>\n",
              "    <tr>\n",
              "      <th>1</th>\n",
              "      <td>-1.461656</td>\n",
              "      <td>-2.887313</td>\n",
              "      <td>-0.289707</td>\n",
              "      <td>-0.386708</td>\n",
              "      <td>-0.203219</td>\n",
              "      <td>-0.424973</td>\n",
              "      <td>-0.147006</td>\n",
              "      <td>-0.030848</td>\n",
              "      <td>-1.862352</td>\n",
              "      <td>-0.378058</td>\n",
              "      <td>-0.385474</td>\n",
              "    </tr>\n",
              "    <tr>\n",
              "      <th>2</th>\n",
              "      <td>-1.461656</td>\n",
              "      <td>-2.857475</td>\n",
              "      <td>-0.289707</td>\n",
              "      <td>-0.386712</td>\n",
              "      <td>-0.203219</td>\n",
              "      <td>-0.424973</td>\n",
              "      <td>-0.147006</td>\n",
              "      <td>-0.030874</td>\n",
              "      <td>-1.862352</td>\n",
              "      <td>-0.378058</td>\n",
              "      <td>-0.385474</td>\n",
              "    </tr>\n",
              "    <tr>\n",
              "      <th>3</th>\n",
              "      <td>-1.461656</td>\n",
              "      <td>-2.827638</td>\n",
              "      <td>-0.289707</td>\n",
              "      <td>-0.386718</td>\n",
              "      <td>-0.203219</td>\n",
              "      <td>-0.424973</td>\n",
              "      <td>-0.147006</td>\n",
              "      <td>-0.030852</td>\n",
              "      <td>-1.862352</td>\n",
              "      <td>-0.378058</td>\n",
              "      <td>-0.385474</td>\n",
              "    </tr>\n",
              "    <tr>\n",
              "      <th>4</th>\n",
              "      <td>-1.461656</td>\n",
              "      <td>-2.797800</td>\n",
              "      <td>-0.289707</td>\n",
              "      <td>-0.386721</td>\n",
              "      <td>-0.203219</td>\n",
              "      <td>-0.424973</td>\n",
              "      <td>-0.147006</td>\n",
              "      <td>-0.030874</td>\n",
              "      <td>-1.862352</td>\n",
              "      <td>-0.378058</td>\n",
              "      <td>-0.385474</td>\n",
              "    </tr>\n",
              "  </tbody>\n",
              "</table>\n",
              "</div>\n",
              "    <div class=\"colab-df-buttons\">\n",
              "\n",
              "  <div class=\"colab-df-container\">\n",
              "    <button class=\"colab-df-convert\" onclick=\"convertToInteractive('df-cc2bb1de-6888-4526-b426-edb14b998c3b')\"\n",
              "            title=\"Convert this dataframe to an interactive table.\"\n",
              "            style=\"display:none;\">\n",
              "\n",
              "  <svg xmlns=\"http://www.w3.org/2000/svg\" height=\"24px\" viewBox=\"0 -960 960 960\">\n",
              "    <path d=\"M120-120v-720h720v720H120Zm60-500h600v-160H180v160Zm220 220h160v-160H400v160Zm0 220h160v-160H400v160ZM180-400h160v-160H180v160Zm440 0h160v-160H620v160ZM180-180h160v-160H180v160Zm440 0h160v-160H620v160Z\"/>\n",
              "  </svg>\n",
              "    </button>\n",
              "\n",
              "  <style>\n",
              "    .colab-df-container {\n",
              "      display:flex;\n",
              "      gap: 12px;\n",
              "    }\n",
              "\n",
              "    .colab-df-convert {\n",
              "      background-color: #E8F0FE;\n",
              "      border: none;\n",
              "      border-radius: 50%;\n",
              "      cursor: pointer;\n",
              "      display: none;\n",
              "      fill: #1967D2;\n",
              "      height: 32px;\n",
              "      padding: 0 0 0 0;\n",
              "      width: 32px;\n",
              "    }\n",
              "\n",
              "    .colab-df-convert:hover {\n",
              "      background-color: #E2EBFA;\n",
              "      box-shadow: 0px 1px 2px rgba(60, 64, 67, 0.3), 0px 1px 3px 1px rgba(60, 64, 67, 0.15);\n",
              "      fill: #174EA6;\n",
              "    }\n",
              "\n",
              "    .colab-df-buttons div {\n",
              "      margin-bottom: 4px;\n",
              "    }\n",
              "\n",
              "    [theme=dark] .colab-df-convert {\n",
              "      background-color: #3B4455;\n",
              "      fill: #D2E3FC;\n",
              "    }\n",
              "\n",
              "    [theme=dark] .colab-df-convert:hover {\n",
              "      background-color: #434B5C;\n",
              "      box-shadow: 0px 1px 3px 1px rgba(0, 0, 0, 0.15);\n",
              "      filter: drop-shadow(0px 1px 2px rgba(0, 0, 0, 0.3));\n",
              "      fill: #FFFFFF;\n",
              "    }\n",
              "  </style>\n",
              "\n",
              "    <script>\n",
              "      const buttonEl =\n",
              "        document.querySelector('#df-cc2bb1de-6888-4526-b426-edb14b998c3b button.colab-df-convert');\n",
              "      buttonEl.style.display =\n",
              "        google.colab.kernel.accessAllowed ? 'block' : 'none';\n",
              "\n",
              "      async function convertToInteractive(key) {\n",
              "        const element = document.querySelector('#df-cc2bb1de-6888-4526-b426-edb14b998c3b');\n",
              "        const dataTable =\n",
              "          await google.colab.kernel.invokeFunction('convertToInteractive',\n",
              "                                                    [key], {});\n",
              "        if (!dataTable) return;\n",
              "\n",
              "        const docLinkHtml = 'Like what you see? Visit the ' +\n",
              "          '<a target=\"_blank\" href=https://colab.research.google.com/notebooks/data_table.ipynb>data table notebook</a>'\n",
              "          + ' to learn more about interactive tables.';\n",
              "        element.innerHTML = '';\n",
              "        dataTable['output_type'] = 'display_data';\n",
              "        await google.colab.output.renderOutput(dataTable, element);\n",
              "        const docLink = document.createElement('div');\n",
              "        docLink.innerHTML = docLinkHtml;\n",
              "        element.appendChild(docLink);\n",
              "      }\n",
              "    </script>\n",
              "  </div>\n",
              "\n",
              "\n",
              "    <div id=\"df-fc86cf57-cb65-4c48-9a60-d9a1c010322a\">\n",
              "      <button class=\"colab-df-quickchart\" onclick=\"quickchart('df-fc86cf57-cb65-4c48-9a60-d9a1c010322a')\"\n",
              "                title=\"Suggest charts\"\n",
              "                style=\"display:none;\">\n",
              "\n",
              "<svg xmlns=\"http://www.w3.org/2000/svg\" height=\"24px\"viewBox=\"0 0 24 24\"\n",
              "     width=\"24px\">\n",
              "    <g>\n",
              "        <path d=\"M19 3H5c-1.1 0-2 .9-2 2v14c0 1.1.9 2 2 2h14c1.1 0 2-.9 2-2V5c0-1.1-.9-2-2-2zM9 17H7v-7h2v7zm4 0h-2V7h2v10zm4 0h-2v-4h2v4z\"/>\n",
              "    </g>\n",
              "</svg>\n",
              "      </button>\n",
              "\n",
              "<style>\n",
              "  .colab-df-quickchart {\n",
              "      --bg-color: #E8F0FE;\n",
              "      --fill-color: #1967D2;\n",
              "      --hover-bg-color: #E2EBFA;\n",
              "      --hover-fill-color: #174EA6;\n",
              "      --disabled-fill-color: #AAA;\n",
              "      --disabled-bg-color: #DDD;\n",
              "  }\n",
              "\n",
              "  [theme=dark] .colab-df-quickchart {\n",
              "      --bg-color: #3B4455;\n",
              "      --fill-color: #D2E3FC;\n",
              "      --hover-bg-color: #434B5C;\n",
              "      --hover-fill-color: #FFFFFF;\n",
              "      --disabled-bg-color: #3B4455;\n",
              "      --disabled-fill-color: #666;\n",
              "  }\n",
              "\n",
              "  .colab-df-quickchart {\n",
              "    background-color: var(--bg-color);\n",
              "    border: none;\n",
              "    border-radius: 50%;\n",
              "    cursor: pointer;\n",
              "    display: none;\n",
              "    fill: var(--fill-color);\n",
              "    height: 32px;\n",
              "    padding: 0;\n",
              "    width: 32px;\n",
              "  }\n",
              "\n",
              "  .colab-df-quickchart:hover {\n",
              "    background-color: var(--hover-bg-color);\n",
              "    box-shadow: 0 1px 2px rgba(60, 64, 67, 0.3), 0 1px 3px 1px rgba(60, 64, 67, 0.15);\n",
              "    fill: var(--button-hover-fill-color);\n",
              "  }\n",
              "\n",
              "  .colab-df-quickchart-complete:disabled,\n",
              "  .colab-df-quickchart-complete:disabled:hover {\n",
              "    background-color: var(--disabled-bg-color);\n",
              "    fill: var(--disabled-fill-color);\n",
              "    box-shadow: none;\n",
              "  }\n",
              "\n",
              "  .colab-df-spinner {\n",
              "    border: 2px solid var(--fill-color);\n",
              "    border-color: transparent;\n",
              "    border-bottom-color: var(--fill-color);\n",
              "    animation:\n",
              "      spin 1s steps(1) infinite;\n",
              "  }\n",
              "\n",
              "  @keyframes spin {\n",
              "    0% {\n",
              "      border-color: transparent;\n",
              "      border-bottom-color: var(--fill-color);\n",
              "      border-left-color: var(--fill-color);\n",
              "    }\n",
              "    20% {\n",
              "      border-color: transparent;\n",
              "      border-left-color: var(--fill-color);\n",
              "      border-top-color: var(--fill-color);\n",
              "    }\n",
              "    30% {\n",
              "      border-color: transparent;\n",
              "      border-left-color: var(--fill-color);\n",
              "      border-top-color: var(--fill-color);\n",
              "      border-right-color: var(--fill-color);\n",
              "    }\n",
              "    40% {\n",
              "      border-color: transparent;\n",
              "      border-right-color: var(--fill-color);\n",
              "      border-top-color: var(--fill-color);\n",
              "    }\n",
              "    60% {\n",
              "      border-color: transparent;\n",
              "      border-right-color: var(--fill-color);\n",
              "    }\n",
              "    80% {\n",
              "      border-color: transparent;\n",
              "      border-right-color: var(--fill-color);\n",
              "      border-bottom-color: var(--fill-color);\n",
              "    }\n",
              "    90% {\n",
              "      border-color: transparent;\n",
              "      border-bottom-color: var(--fill-color);\n",
              "    }\n",
              "  }\n",
              "</style>\n",
              "\n",
              "      <script>\n",
              "        async function quickchart(key) {\n",
              "          const quickchartButtonEl =\n",
              "            document.querySelector('#' + key + ' button');\n",
              "          quickchartButtonEl.disabled = true;  // To prevent multiple clicks.\n",
              "          quickchartButtonEl.classList.add('colab-df-spinner');\n",
              "          try {\n",
              "            const charts = await google.colab.kernel.invokeFunction(\n",
              "                'suggestCharts', [key], {});\n",
              "          } catch (error) {\n",
              "            console.error('Error during call to suggestCharts:', error);\n",
              "          }\n",
              "          quickchartButtonEl.classList.remove('colab-df-spinner');\n",
              "          quickchartButtonEl.classList.add('colab-df-quickchart-complete');\n",
              "        }\n",
              "        (() => {\n",
              "          let quickchartButtonEl =\n",
              "            document.querySelector('#df-fc86cf57-cb65-4c48-9a60-d9a1c010322a button');\n",
              "          quickchartButtonEl.style.display =\n",
              "            google.colab.kernel.accessAllowed ? 'block' : 'none';\n",
              "        })();\n",
              "      </script>\n",
              "    </div>\n",
              "\n",
              "    </div>\n",
              "  </div>\n"
            ],
            "application/vnd.google.colaboratory.intrinsic+json": {
              "type": "dataframe",
              "summary": "{\n  \"name\": \"standardized_data[:5]\",\n  \"rows\": 5,\n  \"fields\": [\n    {\n      \"column\": \"case\",\n      \"properties\": {\n        \"dtype\": \"number\",\n        \"std\": 0.0,\n        \"min\": -1.461655981721527,\n        \"max\": -1.461655981721527,\n        \"num_unique_values\": 1,\n        \"samples\": [\n          -1.461655981721527\n        ],\n        \"semantic_type\": \"\",\n        \"description\": \"\"\n      }\n    },\n    {\n      \"column\": \"year\",\n      \"properties\": {\n        \"dtype\": \"number\",\n        \"std\": 0.04717733608745058,\n        \"min\": -2.91715047886115,\n        \"max\": -2.79780021008067,\n        \"num_unique_values\": 5,\n        \"samples\": [\n          -2.88731291166603\n        ],\n        \"semantic_type\": \"\",\n        \"description\": \"\"\n      }\n    },\n    {\n      \"column\": \"systemic_crisis\",\n      \"properties\": {\n        \"dtype\": \"number\",\n        \"std\": 1.673234266056169,\n        \"min\": -0.28970743722101244,\n        \"max\": 3.4517581239625508,\n        \"num_unique_values\": 2,\n        \"samples\": [\n          -0.28970743722101244\n        ],\n        \"semantic_type\": \"\",\n        \"description\": \"\"\n      }\n    },\n    {\n      \"column\": \"exch_usd\",\n      \"properties\": {\n        \"dtype\": \"number\",\n        \"std\": 5.198132347311933e-06,\n        \"min\": -0.3867210994425029,\n        \"max\": -0.3867077269472314,\n        \"num_unique_values\": 5,\n        \"samples\": [\n          -0.3867077269472314\n        ],\n        \"semantic_type\": \"\",\n        \"description\": \"\"\n      }\n    },\n    {\n      \"column\": \"domestic_debt_in_default\",\n      \"properties\": {\n        \"dtype\": \"number\",\n        \"std\": 0.0,\n        \"min\": -0.2032189339191731,\n        \"max\": -0.2032189339191731,\n        \"num_unique_values\": 1,\n        \"samples\": [\n          -0.2032189339191731\n        ],\n        \"semantic_type\": \"\",\n        \"description\": \"\"\n      }\n    },\n    {\n      \"column\": \"sovereign_external_debt_default\",\n      \"properties\": {\n        \"dtype\": \"number\",\n        \"std\": 0.0,\n        \"min\": -0.42497294818490355,\n        \"max\": -0.42497294818490355,\n        \"num_unique_values\": 1,\n        \"samples\": [\n          -0.42497294818490355\n        ],\n        \"semantic_type\": \"\",\n        \"description\": \"\"\n      }\n    },\n    {\n      \"column\": \"gdp_weighted_default\",\n      \"properties\": {\n        \"dtype\": \"number\",\n        \"std\": 0.0,\n        \"min\": -0.14700624378790722,\n        \"max\": -0.14700624378790722,\n        \"num_unique_values\": 1,\n        \"samples\": [\n          -0.14700624378790722\n        ],\n        \"semantic_type\": \"\",\n        \"description\": \"\"\n      }\n    },\n    {\n      \"column\": \"inflation_annual_cpi\",\n      \"properties\": {\n        \"dtype\": \"number\",\n        \"std\": 1.2300640344439407e-05,\n        \"min\": -0.03087427351460046,\n        \"max\": -0.030847626374016664,\n        \"num_unique_values\": 5,\n        \"samples\": [\n          -0.030847626374016664\n        ],\n        \"semantic_type\": \"\",\n        \"description\": \"\"\n      }\n    },\n    {\n      \"column\": \"independence\",\n      \"properties\": {\n        \"dtype\": \"number\",\n        \"std\": 0.0,\n        \"min\": -1.8623518546128266,\n        \"max\": -1.8623518546128266,\n        \"num_unique_values\": 1,\n        \"samples\": [\n          -1.8623518546128266\n        ],\n        \"semantic_type\": \"\",\n        \"description\": \"\"\n      }\n    },\n    {\n      \"column\": \"currency_crises\",\n      \"properties\": {\n        \"dtype\": \"number\",\n        \"std\": 0.0,\n        \"min\": -0.3780581725059774,\n        \"max\": -0.3780581725059774,\n        \"num_unique_values\": 1,\n        \"samples\": [\n          -0.3780581725059774\n        ],\n        \"semantic_type\": \"\",\n        \"description\": \"\"\n      }\n    },\n    {\n      \"column\": \"inflation_crises\",\n      \"properties\": {\n        \"dtype\": \"number\",\n        \"std\": 0.0,\n        \"min\": -0.38547376265055366,\n        \"max\": -0.38547376265055366,\n        \"num_unique_values\": 1,\n        \"samples\": [\n          -0.38547376265055366\n        ],\n        \"semantic_type\": \"\",\n        \"description\": \"\"\n      }\n    }\n  ]\n}"
            }
          },
          "metadata": {},
          "execution_count": 2
        }
      ],
      "source": [
        "import numpy as np\n",
        "import pandas as pd\n",
        "# https://www.kaggle.com/datasets/chirin/africa-economic-banking-and-systemic-crisis-data\n",
        "# https://drive.google.com/file/d/11SORG1sLdXhibGWqZAZ3jjtXW_LUeELx/view?usp=sharing   the data set ony drive\n",
        "\n",
        "# Step 1: Load the dataset from Google Drive\n",
        "file_id = \"11SORG1sLdXhibGWqZAZ3jjtXW_LUeELx\"\n",
        "url = f\"https://drive.google.com/uc?id={file_id}\"\n",
        "df = pd.read_csv(url)\n",
        "\n",
        "#  Drop non-numeric columns\n",
        "numeric_df = df.select_dtypes(include=[np.number])\n",
        "\n",
        "# Step 2: Standardize using NumPy only\n",
        "mean = np.mean(numeric_df, axis=0)\n",
        "std = np.std(numeric_df, axis=0)\n",
        "standardized_data = (numeric_df - mean) / std\n",
        "\n",
        "# Step 3: View first 5 rows\n",
        "standardized_data[:5]\n"
      ]
    },
    {
      "cell_type": "markdown",
      "metadata": {
        "id": "Fybn40Syr_Kd"
      },
      "source": [
        "### Step 3: Calculate the Covariance Matrix\n",
        "The covariance matrix helps us understand how the features are related to each other. It is a key component in PCA."
      ]
    },
    {
      "cell_type": "code",
      "execution_count": 3,
      "metadata": {
        "colab": {
          "base_uri": "https://localhost:8080/"
        },
        "id": "RbklA9tqr_Ke",
        "outputId": "f5c77901-056e-4d59-b514-116e68e2fa34"
      },
      "outputs": [
        {
          "output_type": "execute_result",
          "data": {
            "text/plain": [
              "array([[ 1.00094518,  0.11568362,  0.01100119, -0.23219517,  0.12847944,\n",
              "        -0.03929952, -0.03301216,  0.04480436,  0.02187865,  0.09542881,\n",
              "         0.0064115 ],\n",
              "       [ 0.11568362,  1.00094518,  0.19763708,  0.2489921 ,  0.13695733,\n",
              "         0.27214712, -0.05472206,  0.03706992,  0.40774521,  0.18956951,\n",
              "         0.09872358],\n",
              "       [ 0.01100119,  0.19763708,  1.00094518,  0.20287813,  0.12227396,\n",
              "         0.25008637,  0.00527918,  0.10655226,  0.14722222,  0.11285756,\n",
              "         0.17272494],\n",
              "       [-0.23219517,  0.2489921 ,  0.20287813,  1.00094518,  0.005258  ,\n",
              "         0.42328974, -0.04076417, -0.01195788,  0.12615328, -0.0565252 ,\n",
              "        -0.06384318],\n",
              "       [ 0.12847944,  0.13695733,  0.12227396,  0.005258  ,  1.00094518,\n",
              "         0.46519012, -0.02990269,  0.15197534,  0.10922265,  0.22780017,\n",
              "         0.22464067],\n",
              "       [-0.03929952,  0.27214712,  0.25008637,  0.42328974,  0.46519012,\n",
              "         1.00094518,  0.34624602,  0.07267715,  0.22840723,  0.19961649,\n",
              "         0.18810757],\n",
              "       [-0.03301216, -0.05472206,  0.00527918, -0.04076417, -0.02990269,\n",
              "         0.34624602,  1.00094518, -0.00453969,  0.07901041,  0.01698597,\n",
              "         0.0176471 ],\n",
              "       [ 0.04480436,  0.03706992,  0.10655226, -0.01195788,  0.15197534,\n",
              "         0.07267715, -0.00453969,  1.00094518,  0.01658431,  0.07666228,\n",
              "         0.08013589],\n",
              "       [ 0.02187865,  0.40774521,  0.14722222,  0.12615328,  0.10922265,\n",
              "         0.22840723,  0.07901041,  0.01658431,  1.00094518,  0.08645776,\n",
              "        -0.02256886],\n",
              "       [ 0.09542881,  0.18956951,  0.11285756, -0.0565252 ,  0.22780017,\n",
              "         0.19961649,  0.01698597,  0.07666228,  0.08645776,  1.00094518,\n",
              "         0.3937481 ],\n",
              "       [ 0.0064115 ,  0.09872358,  0.17272494, -0.06384318,  0.22464067,\n",
              "         0.18810757,  0.0176471 ,  0.08013589, -0.02256886,  0.3937481 ,\n",
              "         1.00094518]])"
            ]
          },
          "metadata": {},
          "execution_count": 3
        }
      ],
      "source": [
        "# Step 3: Calculate the Covariance Matrix\n",
        "cov_matrix = np.cov(standardized_data, rowvar=False)  # Calculate covariance matrix\n",
        "cov_matrix"
      ]
    },
    {
      "cell_type": "markdown",
      "metadata": {
        "id": "dWzqXsR0r_Ke"
      },
      "source": [
        "### Step 4: Perform Eigendecomposition\n",
        "Eigendecomposition of the covariance matrix will give us the eigenvalues and eigenvectors, which are essential for PCA.\n",
        "Fill in the code to compute the eigenvalues and eigenvectors of the covariance matrix."
      ]
    },
    {
      "cell_type": "code",
      "execution_count": 4,
      "metadata": {
        "id": "8Tm0rzdAr_Ke",
        "colab": {
          "base_uri": "https://localhost:8080/"
        },
        "outputId": "6077b5bf-dad8-474f-f9d9-45a2b8c977fa"
      },
      "outputs": [
        {
          "output_type": "execute_result",
          "data": {
            "text/plain": [
              "(array([2.38954863, 1.52436011, 0.25446076, 0.4848269 , 1.22470125,\n",
              "        0.57750597, 0.70267718, 1.10761037, 1.00952364, 0.83621167,\n",
              "        0.89897048]),\n",
              " array([[-0.03948826, -0.37869841, -0.02569739,  0.31776268, -0.4003447 ,\n",
              "         -0.06608513,  0.36161803,  0.41822049, -0.19707697, -0.46749509,\n",
              "          0.16026424],\n",
              "        [-0.38012293,  0.13870804, -0.03303789, -0.62578005, -0.48823139,\n",
              "         -0.30123931,  0.26059184,  0.05959162,  0.15217562,  0.12612498,\n",
              "         -0.0627316 ],\n",
              "        [-0.31790664,  0.07052105, -0.02738511, -0.12940019, -0.06027377,\n",
              "          0.19389326, -0.3327621 , -0.28793279, -0.10634778, -0.69452141,\n",
              "         -0.38462258],\n",
              "        [-0.26033394,  0.54096555, -0.41568722,  0.3653286 ,  0.04419925,\n",
              "          0.02285426,  0.43416356, -0.31790488, -0.04150483, -0.05132504,\n",
              "          0.19216491],\n",
              "        [-0.36975275, -0.26019546, -0.41490926, -0.17302264,  0.09476762,\n",
              "          0.03341536, -0.40380854,  0.03569439, -0.28483158,  0.09744374,\n",
              "          0.57309465],\n",
              "        [-0.50232133,  0.16903634,  0.71446318,  0.04944574,  0.32189309,\n",
              "         -0.0022762 ,  0.08758095,  0.15403646, -0.09236659, -0.04671637,\n",
              "          0.2458973 ],\n",
              "        [-0.11907866,  0.10206208, -0.36947465, -0.14113337,  0.53442312,\n",
              "         -0.05038939,  0.11764132,  0.62411963,  0.04942675, -0.08770102,\n",
              "         -0.34253035],\n",
              "        [-0.13645698, -0.19146158,  0.02361272,  0.03619106,  0.02019481,\n",
              "         -0.03033191,  0.19478797, -0.15853381, -0.75129363,  0.35339736,\n",
              "         -0.43487884],\n",
              "        [-0.30445693,  0.22086964, -0.02118109,  0.47528124, -0.3906186 ,\n",
              "          0.05096555, -0.44682901,  0.3274592 ,  0.11147222,  0.31636948,\n",
              "         -0.23999981],\n",
              "        [-0.30851795, -0.41447073, -0.04503078,  0.00363792,  0.02347232,\n",
              "          0.67366493,  0.28165493, -0.09526758,  0.37605739,  0.19024154,\n",
              "         -0.10294604],\n",
              "        [-0.27456773, -0.41929953, -0.05049279,  0.27874932,  0.20981405,\n",
              "         -0.63699915, -0.02442182, -0.28566874,  0.33849636, -0.00249594,\n",
              "         -0.14822564]]))"
            ]
          },
          "metadata": {},
          "execution_count": 4
        }
      ],
      "source": [
        "# Step 4: Perform Eigendecomposition\n",
        "eigenvalues, eigenvectors = np.linalg.eig(cov_matrix)\n",
        "eigenvalues, eigenvectors"
      ]
    },
    {
      "cell_type": "markdown",
      "metadata": {
        "id": "bp6o_4sTr_Kf"
      },
      "source": [
        "### Step 5: Sort Principal Components\n",
        "Sort the eigenvectors based on their corresponding eigenvalues in descending order. The higher the eigenvalue, the more important the eigenvector.\n",
        "Complete the code to sort the eigenvectors and print the sorted components.\n",
        "\n",
        "<a url ='https://www.youtube.com/watch?v=vaF-1xUEXsA&t=17s'>How Is Explained Variance Used In PCA?'<a/>"
      ]
    },
    {
      "cell_type": "code",
      "execution_count": 5,
      "metadata": {
        "id": "jpfoRz-Xr_Kf",
        "colab": {
          "base_uri": "https://localhost:8080/"
        },
        "outputId": "17658508-b83e-4880-fc46-8f0ff1697f19"
      },
      "outputs": [
        {
          "output_type": "execute_result",
          "data": {
            "text/plain": [
              "array([[-0.03948826, -0.37869841, -0.4003447 ,  0.41822049, -0.19707697,\n",
              "         0.16026424, -0.46749509,  0.36161803, -0.06608513,  0.31776268,\n",
              "        -0.02569739],\n",
              "       [-0.38012293,  0.13870804, -0.48823139,  0.05959162,  0.15217562,\n",
              "        -0.0627316 ,  0.12612498,  0.26059184, -0.30123931, -0.62578005,\n",
              "        -0.03303789],\n",
              "       [-0.31790664,  0.07052105, -0.06027377, -0.28793279, -0.10634778,\n",
              "        -0.38462258, -0.69452141, -0.3327621 ,  0.19389326, -0.12940019,\n",
              "        -0.02738511],\n",
              "       [-0.26033394,  0.54096555,  0.04419925, -0.31790488, -0.04150483,\n",
              "         0.19216491, -0.05132504,  0.43416356,  0.02285426,  0.3653286 ,\n",
              "        -0.41568722],\n",
              "       [-0.36975275, -0.26019546,  0.09476762,  0.03569439, -0.28483158,\n",
              "         0.57309465,  0.09744374, -0.40380854,  0.03341536, -0.17302264,\n",
              "        -0.41490926],\n",
              "       [-0.50232133,  0.16903634,  0.32189309,  0.15403646, -0.09236659,\n",
              "         0.2458973 , -0.04671637,  0.08758095, -0.0022762 ,  0.04944574,\n",
              "         0.71446318],\n",
              "       [-0.11907866,  0.10206208,  0.53442312,  0.62411963,  0.04942675,\n",
              "        -0.34253035, -0.08770102,  0.11764132, -0.05038939, -0.14113337,\n",
              "        -0.36947465],\n",
              "       [-0.13645698, -0.19146158,  0.02019481, -0.15853381, -0.75129363,\n",
              "        -0.43487884,  0.35339736,  0.19478797, -0.03033191,  0.03619106,\n",
              "         0.02361272],\n",
              "       [-0.30445693,  0.22086964, -0.3906186 ,  0.3274592 ,  0.11147222,\n",
              "        -0.23999981,  0.31636948, -0.44682901,  0.05096555,  0.47528124,\n",
              "        -0.02118109],\n",
              "       [-0.30851795, -0.41447073,  0.02347232, -0.09526758,  0.37605739,\n",
              "        -0.10294604,  0.19024154,  0.28165493,  0.67366493,  0.00363792,\n",
              "        -0.04503078],\n",
              "       [-0.27456773, -0.41929953,  0.20981405, -0.28566874,  0.33849636,\n",
              "        -0.14822564, -0.00249594, -0.02442182, -0.63699915,  0.27874932,\n",
              "        -0.05049279]])"
            ]
          },
          "metadata": {},
          "execution_count": 5
        }
      ],
      "source": [
        "# Step 5: Sort Principal Components\n",
        "sorted_indices = np.argsort(eigenvalues)[::-1]\n",
        "sorted_eigenvalues = eigenvalues[sorted_indices]\n",
        "sorted_eigenvectors = eigenvectors[:, sorted_indices]\n",
        "sorted_eigenvectors"
      ]
    },
    {
      "cell_type": "markdown",
      "metadata": {
        "id": "uxbmuO27r_Kg"
      },
      "source": [
        "### Step 6: Project Data onto Principal Components\n",
        "Now that we’ve selected the number of components, we will project the original data onto the chosen principal components.\n",
        "Fill in the code to perform the projection."
      ]
    },
    {
      "cell_type": "code",
      "execution_count": null,
      "metadata": {
        "id": "ubjIMAtWr_Kg"
      },
      "outputs": [],
      "source": [
        "# Step 6: Project Data onto Principal Components\n",
        "num_components = None  # Decide on the number of principal components to keep\n",
        "reduced_data = None  # Project data onto the principal components\n",
        "reduced_data[:5]"
      ]
    },
    {
      "cell_type": "markdown",
      "metadata": {
        "id": "XVq-b6vtr_Kg"
      },
      "source": [
        "### Step 7: Output the Reduced Data\n",
        "Finally, display the reduced data obtained by projecting the original dataset onto the selected principal components."
      ]
    },
    {
      "cell_type": "code",
      "execution_count": null,
      "metadata": {
        "id": "5D0uzRyPr_Kg"
      },
      "outputs": [],
      "source": [
        "# Step 7: Output the Reduced Data\n",
        "print(f'Reduced Data Shape: {reduced_data.shape}')  # Display reduced data shape\n",
        "reduced_data[:5]  # Display the first few rows of reduced data"
      ]
    },
    {
      "cell_type": "markdown",
      "metadata": {
        "id": "S1f8ROm5r_Kg"
      },
      "source": [
        "### Step 8: Visualize Before and After PCA\n",
        "Now, let's plot the original data and the data after PCA to compare the reduction in dimensions visually."
      ]
    },
    {
      "cell_type": "code",
      "execution_count": null,
      "metadata": {
        "id": "WwuppWV-r_Kg"
      },
      "outputs": [],
      "source": [
        "# Step 8: Visualize Before and After PCA\n",
        "\n",
        "\n",
        "# Plot original data (first two features for simplicity)\n",
        "\n",
        "\n",
        "# Plot reduced data after PCA\n"
      ]
    }
  ],
  "metadata": {
    "colab": {
      "provenance": []
    },
    "kernelspec": {
      "display_name": "Python 3",
      "name": "python3"
    },
    "language_info": {
      "name": "python",
      "version": "3.8.8"
    }
  },
  "nbformat": 4,
  "nbformat_minor": 0
}